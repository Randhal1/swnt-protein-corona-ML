{
 "metadata": {
  "language_info": {
   "codemirror_mode": {
    "name": "ipython",
    "version": 3
   },
   "file_extension": ".py",
   "mimetype": "text/x-python",
   "name": "python",
   "nbconvert_exporter": "python",
   "pygments_lexer": "ipython3",
   "version": "3.8.8"
  },
  "orig_nbformat": 2,
  "kernelspec": {
   "name": "python3",
   "display_name": "Python 3.8.8 64-bit ('base': conda)"
  },
  "interpreter": {
   "hash": "b3ba2566441a7c06988d0923437866b63cedc61552a5af99d1f4fb67d367b25f"
  }
 },
 "nbformat": 4,
 "nbformat_minor": 2,
 "cells": [
  {
   "cell_type": "code",
   "execution_count": 1,
   "source": [
    "# Imports --- All of this may not be vital\r\n",
    "\r\n",
    "import pandas as pd\r\n",
    "import numpy as np\r\n",
    "from sklearn.ensemble import AdaBoostClassifier, RandomForestClassifier, BaggingClassifier, GradientBoostingClassifier\r\n",
    "from sklearn.linear_model import SGDClassifier\r\n",
    "from sklearn import metrics\r\n",
    "import matplotlib.pyplot as plt\r\n",
    "import seaborn as sns\r\n",
    "from sklearn.metrics import  f1_score, recall_score, precision_score\r\n",
    "from pprint import pprint\r\n",
    "from sklearn.preprocessing import MinMaxScaler\r\n",
    "import xgboost as xgb\r\n",
    "from sklearn.model_selection import  StratifiedShuffleSplit\r\n",
    "from sklearn.preprocessing import MinMaxScaler\r\n",
    "from imblearn.over_sampling import *\r\n",
    "# Homemade functions required\r\n",
    "from data_prep_functions import *\r\n",
    "from interpro_scraping import interpro_scraping_pandas\r\n"
   ],
   "outputs": [
    {
     "output_type": "stream",
     "name": "stdout",
     "text": [
      "2.4.0\n"
     ]
    }
   ],
   "metadata": {}
  },
  {
   "cell_type": "code",
   "execution_count": 12,
   "source": [
    "sklearn_models = {\r\n",
    "                 'Logistic Regression':SGDClassifier(loss='log'),\r\n",
    "                 \"Random Forest - 100 Trees\":RandomForestClassifier(),\r\n",
    "                 \"Random Forest - 1000 Trees\":RandomForestClassifier(n_estimators=1000),\r\n",
    "                 \"Bagging - Decision Tree\": BaggingClassifier(n_estimators=100),\r\n",
    "                 \"Bagging - SVM\": BaggingClassifier(base_estimator=SGDClassifier(), n_estimators=100),\r\n",
    "                 \"Bagging - Logistic Regression\": BaggingClassifier(base_estimator=SGDClassifier(loss='log'), n_estimators=100),\r\n",
    "                 \"Gradient Boosting Classifier - Decision Tree\": GradientBoostingClassifier(n_estimators=100),\r\n",
    "                 \"AdaBoost - Decision Tree\":AdaBoostClassifier(n_estimators=100, algorithm='SAMME'),\r\n",
    "                 \"AdaBoost - Decision Tree - 1000 Estimators\":AdaBoostClassifier(n_estimators=1000, algorithm='SAMME'),\r\n",
    "                 \"AdaBoost - SVM\": AdaBoostClassifier(base_estimator=SGDClassifier(), n_estimators=100, algorithm='SAMME'),\r\n",
    "                 \"AdaBoost - Logistic Regression\": AdaBoostClassifier(base_estimator=SGDClassifier(loss='log'), n_estimators=100, algorithm='SAMME'),\r\n",
    "                 'XGBoost - Decision Tree':xgb.sklearn.XGBClassifier(n_estimators=100, booster='gbtree', verbosity=0),\r\n",
    "                 'XGBoost - Decision Tree - 100 Parallel Trees':xgb.sklearn.XGBClassifier(n_estimators=100, booster='gbtree', verbosity=0, num_parallel_tree=100)\r\n",
    "                 }\r\n",
    "debug_models = {'xgb':xgb.sklearn.XGBClassifier(n_estimators=100, booster='gbtree', verbosity=0, num_parallel_tree=100)}\r\n",
    "                 #\"svm\": SGDClassifier(),"
   ],
   "outputs": [],
   "metadata": {}
  },
  {
   "cell_type": "markdown",
   "source": [
    "# Data Imports"
   ],
   "metadata": {}
  },
  {
   "cell_type": "code",
   "execution_count": 16,
   "source": [
    "### import data used to train classifiers ###\r\n",
    "\r\n",
    "plasma_total_data_names = pd.read_excel(\"data/\"+'gt15_plasma_features_names_biopy_gravy.xlsx', header=0, index_col=0)\r\n",
    "csf_total_data_names = pd.read_excel(\"data/\"+'gt15_csf_features_names_biopy_gravy.xlsx', header=0,index_col=0)\r\n",
    "\r\n",
    "## sort into names and features\r\n",
    "features_plasma = plasma_total_data_names.copy()\r\n",
    "features_plasma = features_plasma.drop(['Corona'], axis=1)\r\n",
    "names_plasma = plasma_total_data_names['Corona'].copy()\r\n",
    "\r\n",
    "features_csf = csf_total_data_names.copy()\r\n",
    "features_csf = features_csf.drop(['Corona'], axis=1) \r\n",
    "names_csf = csf_total_data_names['Corona'].copy()\r\n",
    "\r\n",
    "### create a merged set\r\n",
    "features_plasma_labeled = features_plasma.copy()\r\n",
    "features_csf_labeled = features_csf.copy()\r\n",
    "\r\n",
    "features_plasma_labeled['phase_plasma'] = 1\r\n",
    "features_csf_labeled['phase_plasma'] = 0\r\n",
    "\r\n",
    "features_merged = features_plasma_labeled.append(features_csf_labeled, ignore_index=True)\r\n",
    "names_merged = names_plasma.append(names_csf, ignore_index=True)\r\n",
    "\r\n",
    "# set with no phase labeling names are identical to names merged\r\n",
    "features_merged_naive = features_merged.drop(['phase_plasma'], axis=1)\r\n",
    "\r\n",
    "# print(plasma_total_data_names.shape, csf_total_data_names.shape, features_test.shape) ## in case you need to see shapes\r\n",
    "\r\n",
    "## there is a known error here, sometimes there is an Unnamed column just drop it code is available in a \r\n",
    "#lower cell (scaling cell), its a holdover from two merged sets\r\n",
    "\r\n"
   ],
   "outputs": [],
   "metadata": {}
  },
  {
   "cell_type": "code",
   "execution_count": 17,
   "source": [
    "scaler = MinMaxScaler()\r\n",
    "total_data = features_merged_naive.copy()  ## for a regular netsurfp included case\r\n",
    "# total_data = subset_features.copy() ### for a subset case --- use this one\r\n",
    "total_data = total_data.fillna(0)\r\n",
    "total_data_with_names = total_data.copy()\r\n",
    "total_data = total_data.drop(['Protein names', 'mass'], axis=1)\r\n",
    "scaler = scaler.fit(total_data)\r\n",
    "scaled_df = pd.DataFrame(scaler.transform(total_data), columns=total_data.columns)\r\n",
    "print(scaled_df.shape)\r\n",
    "\r\n",
    "# total_data_labeled = features_merged.copy()\r\n",
    "# total_data_labeled = total_data_labeled.fillna(0)\r\n",
    "# total_data_labeled = total_data_labeled.drop(['Protein names'], axis=1)\r\n",
    "# scaled_df_total = pd.DataFrame(scaler.transform(total_data_labeled), columns=total_data_labeled.columns)\r\n",
    "\r\n",
    "scaled_df_phase = scaled_df.copy()\r\n",
    "scaled_df_phase['phase_plasma'] = features_merged['phase_plasma'].copy()\r\n",
    "\r\n",
    "plasma_data = scaled_df_phase[scaled_df_phase.phase_plasma==1]\r\n",
    "plasma_data = plasma_data.drop(['phase_plasma'], axis=1)\r\n",
    "scaled_df_plasma = plasma_data #pd.DataFrame(scaler.transform(plasma_data), columns=plasma_data.columns)\r\n",
    "\r\n",
    "csf_data = scaled_df_phase[scaled_df_phase.phase_plasma==0]\r\n",
    "csf_data = csf_data.drop(['phase_plasma'], axis=1)\r\n",
    "scaled_df_csf = csf_data #pd.DataFrame(scaler.transform(csf_data), columns=csf_data.columns)\r\n",
    "\r\n",
    "#### UNCOMMENT this section for a REGULAR RUN\r\n",
    "# #features = features_merged_naive.copy()  # change the dataframe that you want to use here\r\n",
    "# features_test = features_test.fillna(0)\r\n",
    "# features_test_names = features_test.copy()\r\n",
    "# features_test = features_test.drop(['Protein names'], axis=1)\r\n",
    "# scaled_test_df = pd.DataFrame(scaler.transform(features_test), columns=features_test.columns)\r\n",
    "\r\n",
    "\r\n",
    "# scaled_df = scaled_df.drop(['Unnamed: 0.1'], axis=1)\r\n",
    "# scaled_test_df = scaled_test_df.drop(['Unnamed: 0.1'], axis=1)"
   ],
   "outputs": [
    {
     "output_type": "stream",
     "name": "stdout",
     "text": [
      "(174, 91)\n"
     ]
    }
   ],
   "metadata": {}
  },
  {
   "cell_type": "code",
   "execution_count": 18,
   "source": [
    "### Data put into classifier and classified\r\n",
    "\r\n",
    "\r\n",
    "df_local_features_train = scaled_df.copy()\r\n",
    "# df_local_protein_names_train = features_test_names['Protein names']\r\n",
    "df_local_names = names_merged.copy()\r\n",
    "\r\n",
    "# df_local_features_classify = scaled_features_for_prediction.copy()\r\n",
    "# df_local_protein_names_classify = features_for_prediction['Protein names'].copy()\r\n",
    "\r\n",
    "### to keep some things kosher later\r\n",
    "df_local_features_train_copy = scaled_df.copy()\r\n",
    "df_local_names_copy = names_merged.copy()\r\n",
    "# df_local_features_classify_copy = df_local_features_classify.copy()\r\n",
    "# df_local_protein_names_classify_copy = df_local_protein_names_classify.copy()"
   ],
   "outputs": [],
   "metadata": {}
  },
  {
   "cell_type": "markdown",
   "source": [
    "# Learning Models Cycle"
   ],
   "metadata": {}
  },
  {
   "cell_type": "code",
   "execution_count": null,
   "source": [
    "k_fold_splits = 100\r\n",
    "predictions = pd.DataFrame()\r\n",
    "scaler = MinMaxScaler()\r\n",
    "first_frame = True\r\n",
    "metrics_frame = pd.DataFrame()\r\n",
    "for key, model in sklearn_models.items():\r\n",
    "    print(key)\r\n",
    "    acc_arry=np.zeros(k_fold_splits)\r\n",
    "    prec_arry=np.zeros(k_fold_splits)\r\n",
    "    roc_arry=np.zeros(k_fold_splits)\r\n",
    "    recall_arry=np.zeros(k_fold_splits)\r\n",
    "    choice_data = {}\r\n",
    "\r\n",
    "    feature_imp = pd.DataFrame(columns=list(scaled_df.columns))\r\n",
    "    \r\n",
    "    correctness_frame = pd.DataFrame()\r\n",
    "    \r\n",
    "\r\n",
    "    # #split up our data\r\n",
    "    i = 0\r\n",
    "\r\n",
    "\r\n",
    "    sss = StratifiedShuffleSplit(n_splits=100, test_size=0.1, random_state=2016)\r\n",
    "    # skf = StratifiedKFold(n_splits=k_fold_splits, shuffle=True, random_state=35)\r\n",
    "\r\n",
    "    for train_index, test_index in sss.split(df_local_features_train, df_local_names):\r\n",
    "        # print(f'Round {i} \\n')\r\n",
    "        X_train = df_local_features_train.iloc[train_index]\r\n",
    "        X_test = df_local_features_train.iloc[test_index]\r\n",
    "        y_train = df_local_names.iloc[train_index]\r\n",
    "        y_test = df_local_names.iloc[test_index]\r\n",
    "        # print(X_train.shape)\r\n",
    "        sme = SMOTE(random_state=2016, sampling_strategy=0.7, n_jobs=-1, k_neighbors=12)\r\n",
    "        X_train_oversampled, y_train_oversampled = sme.fit_resample(X_train, y_train)\r\n",
    "        \r\n",
    "        if key == 'meta':\r\n",
    "            rfc = RandomForestClassifier()\r\n",
    "            rfc.fit(X_train_oversampled, y_train_oversampled)\r\n",
    "            X_train_oversampled['meta_feat'] = rfc.predict_proba(X_train_oversampled)[:, 1]\r\n",
    "            print(X_train_oversampled.shape, y_train_oversampled.shape)\r\n",
    "            model.fit(X_train_oversampled, y_train_oversampled)\r\n",
    "            X_test['meta_feat'] = rfc.predict_proba(X_test)[:, 1]\r\n",
    "        \r\n",
    "        else:\r\n",
    "            model.fit(X_train_oversampled, y_train_oversampled)\r\n",
    "\r\n",
    "        \r\n",
    "\r\n",
    "        if first_frame:  # Initialize \r\n",
    "            # print(\"first frame\")\r\n",
    "            first_frame = False  # Don't Come back Here\r\n",
    "            \r\n",
    "            # datadict = {'true':y_test.to_numpy(), 'estimate':model.predict(X_test), 'probability':model.predict_proba(X_test)[:, 1]}\r\n",
    "            \r\n",
    "            # correctness_frame = pd.DataFrame(data=datadict)\r\n",
    "            # correctness_frame['round'] = i\r\n",
    "\r\n",
    "            metrics_dict = {'AUC':metrics.roc_auc_score(y_test, model.predict_proba(X_test)[:, 1]),\r\n",
    "            'Accuracy':model.score(X_test, y_test), 'Recall':recall_score(y_test, model.predict(X_test)), \r\n",
    "            'Precision':precision_score(y_test, model.predict(X_test)), 'F1':f1_score(y_test, model.predict(X_test))}\r\n",
    "            \r\n",
    "            metrics_frame = pd.DataFrame.from_dict(data=metrics_dict,orient='index').transpose()\r\n",
    "            metrics_frame['Round'] = i\r\n",
    "            metrics_frame['Classifier'] = key\r\n",
    "\r\n",
    "            \r\n",
    "        else:\r\n",
    "            # datadict = {'true':y_test.to_numpy(), 'estimate':model.predict(X_test), 'probability':model.predict_proba(X_test)[:, 1]}\r\n",
    "            # revolve_frame = pd.DataFrame(data=datadict)\r\n",
    "            # revolve_frame['round'] = i\r\n",
    "            # correctness_frame = correctness_frame.append(revolve_frame, ignore_index=True)\r\n",
    "\r\n",
    "            metrics_dict = {'AUC':metrics.roc_auc_score(y_test, model.predict_proba(X_test)[:, 1]),\r\n",
    "            'Accuracy':model.score(X_test, y_test), 'Recall':recall_score(y_test, model.predict(X_test)), \r\n",
    "            'Precision':precision_score(y_test, model.predict(X_test)), 'F1':f1_score(y_test, model.predict(X_test))}\r\n",
    "            metrics_revolve_frame = pd.DataFrame.from_dict(data=metrics_dict, orient='index').transpose()\r\n",
    "            metrics_revolve_frame['Round'] = i\r\n",
    "            metrics_revolve_frame['Classifier'] = key\r\n",
    "            metrics_frame = metrics_frame.append(metrics_revolve_frame, ignore_index=True)\r\n",
    "\r\n",
    "            # print(results)\r\n",
    "        i += 1"
   ],
   "outputs": [],
   "metadata": {}
  },
  {
   "cell_type": "code",
   "execution_count": 15,
   "source": [
    "metrics_frame.to_excel('multi_classifier_comparison.xlsx')"
   ],
   "outputs": [],
   "metadata": {}
  },
  {
   "cell_type": "code",
   "execution_count": 7,
   "source": [
    "melted_metrics_frame = pd.melt(metrics_frame, id_vars=[\"Round\", \"Classifier\"])"
   ],
   "outputs": [],
   "metadata": {}
  },
  {
   "cell_type": "code",
   "execution_count": 8,
   "source": [
    "melted_metrics_frame = melted_metrics_frame.rename(columns={'variable':'Metric'})\r\n",
    "\r\n",
    "ax = sns.catplot(data=melted_metrics_frame, kind=\"bar\", x=\"Classifier\", y=\"value\", hue=\"Metric\", height=5, aspect=3)\r\n",
    "ax.set_xticklabels(rotation=90)\r\n",
    "plt.show()"
   ],
   "outputs": [
    {
     "output_type": "display_data",
     "data": {
      "image/png": "[encoded data removed]",
      "text/plain": [
       "<Figure size 1161.75x360 with 1 Axes>"
      ]
     },
     "metadata": {
      "needs_background": "light"
     }
    }
   ],
   "metadata": {}
  }
 ]
}
{
 "cells": [
  {
   "cell_type": "code",
   "execution_count": null,
   "metadata": {},
   "outputs": [],
   "source": [
    "import pandas as pd\n",
    "import numpy as np\n",
    "from pprint import pprint\n",
    "# import urllib.request\n",
    "# import json\n",
    "from uniprot_netsurfp_scraping import *"
   ]
  },
  {
   "cell_type": "markdown",
   "metadata": {},
   "source": [
    "# Prep for Netsurfp "
   ]
  },
  {
   "cell_type": "markdown",
   "metadata": {},
   "source": [
    "## Use the Following Cell if Importing Data from and Excel Sheet"
   ]
  },
  {
   "cell_type": "code",
   "execution_count": 2,
   "metadata": {},
   "outputs": [
    {
     "ename": "FileNotFoundError",
     "evalue": "[Errno 2] No such file or directory: 'data/2020-02-03 MS compiled for ML project.xlsx'",
     "output_type": "error",
     "traceback": [
      "\u001b[31m---------------------------------------------------------------------------\u001b[39m",
      "\u001b[31mFileNotFoundError\u001b[39m                         Traceback (most recent call last)",
      "\u001b[36mCell\u001b[39m\u001b[36m \u001b[39m\u001b[32mIn[2]\u001b[39m\u001b[32m, line 17\u001b[39m\n\u001b[32m     13\u001b[39m data_filepath = \u001b[33m\"\u001b[39m\u001b[33mdata/\u001b[39m\u001b[33m\"\u001b[39m + data_file\n\u001b[32m     15\u001b[39m \u001b[38;5;66;03m# load data\u001b[39;00m\n\u001b[32m---> \u001b[39m\u001b[32m17\u001b[39m plasma_raw_data = \u001b[43mpd\u001b[49m\u001b[43m.\u001b[49m\u001b[43mread_excel\u001b[49m\u001b[43m(\u001b[49m\u001b[43mdata_filepath\u001b[49m\u001b[43m,\u001b[49m\u001b[43m \u001b[49m\u001b[43msheet_name\u001b[49m\u001b[43m=\u001b[49m\u001b[43m \u001b[49m\u001b[43mplasma_prop_sheet\u001b[49m\u001b[43m,\u001b[49m\u001b[43m \u001b[49m\u001b[43mthousands\u001b[49m\u001b[43m=\u001b[49m\u001b[33;43m'\u001b[39;49m\u001b[33;43m,\u001b[39;49m\u001b[33;43m'\u001b[39;49m\u001b[43m)\u001b[49m\n\u001b[32m     18\u001b[39m csf_raw_data = pd.read_excel(data_filepath, sheet_name= csf_prop_sheet, thousands=\u001b[33m'\u001b[39m\u001b[33m,\u001b[39m\u001b[33m'\u001b[39m)\n\u001b[32m     21\u001b[39m total_ids = plasma_raw_data.Entry.append(csf_raw_data.Entry)\n",
      "\u001b[36mFile \u001b[39m\u001b[32m~/proj/genomic_env/lib64/python3.12/site-packages/pandas/io/excel/_base.py:495\u001b[39m, in \u001b[36mread_excel\u001b[39m\u001b[34m(io, sheet_name, header, names, index_col, usecols, dtype, engine, converters, true_values, false_values, skiprows, nrows, na_values, keep_default_na, na_filter, verbose, parse_dates, date_parser, date_format, thousands, decimal, comment, skipfooter, storage_options, dtype_backend, engine_kwargs)\u001b[39m\n\u001b[32m    493\u001b[39m \u001b[38;5;28;01mif\u001b[39;00m \u001b[38;5;129;01mnot\u001b[39;00m \u001b[38;5;28misinstance\u001b[39m(io, ExcelFile):\n\u001b[32m    494\u001b[39m     should_close = \u001b[38;5;28;01mTrue\u001b[39;00m\n\u001b[32m--> \u001b[39m\u001b[32m495\u001b[39m     io = \u001b[43mExcelFile\u001b[49m\u001b[43m(\u001b[49m\n\u001b[32m    496\u001b[39m \u001b[43m        \u001b[49m\u001b[43mio\u001b[49m\u001b[43m,\u001b[49m\n\u001b[32m    497\u001b[39m \u001b[43m        \u001b[49m\u001b[43mstorage_options\u001b[49m\u001b[43m=\u001b[49m\u001b[43mstorage_options\u001b[49m\u001b[43m,\u001b[49m\n\u001b[32m    498\u001b[39m \u001b[43m        \u001b[49m\u001b[43mengine\u001b[49m\u001b[43m=\u001b[49m\u001b[43mengine\u001b[49m\u001b[43m,\u001b[49m\n\u001b[32m    499\u001b[39m \u001b[43m        \u001b[49m\u001b[43mengine_kwargs\u001b[49m\u001b[43m=\u001b[49m\u001b[43mengine_kwargs\u001b[49m\u001b[43m,\u001b[49m\n\u001b[32m    500\u001b[39m \u001b[43m    \u001b[49m\u001b[43m)\u001b[49m\n\u001b[32m    501\u001b[39m \u001b[38;5;28;01melif\u001b[39;00m engine \u001b[38;5;129;01mand\u001b[39;00m engine != io.engine:\n\u001b[32m    502\u001b[39m     \u001b[38;5;28;01mraise\u001b[39;00m \u001b[38;5;167;01mValueError\u001b[39;00m(\n\u001b[32m    503\u001b[39m         \u001b[33m\"\u001b[39m\u001b[33mEngine should not be specified when passing \u001b[39m\u001b[33m\"\u001b[39m\n\u001b[32m    504\u001b[39m         \u001b[33m\"\u001b[39m\u001b[33man ExcelFile - ExcelFile already has the engine set\u001b[39m\u001b[33m\"\u001b[39m\n\u001b[32m    505\u001b[39m     )\n",
      "\u001b[36mFile \u001b[39m\u001b[32m~/proj/genomic_env/lib64/python3.12/site-packages/pandas/io/excel/_base.py:1550\u001b[39m, in \u001b[36mExcelFile.__init__\u001b[39m\u001b[34m(self, path_or_buffer, engine, storage_options, engine_kwargs)\u001b[39m\n\u001b[32m   1548\u001b[39m     ext = \u001b[33m\"\u001b[39m\u001b[33mxls\u001b[39m\u001b[33m\"\u001b[39m\n\u001b[32m   1549\u001b[39m \u001b[38;5;28;01melse\u001b[39;00m:\n\u001b[32m-> \u001b[39m\u001b[32m1550\u001b[39m     ext = \u001b[43minspect_excel_format\u001b[49m\u001b[43m(\u001b[49m\n\u001b[32m   1551\u001b[39m \u001b[43m        \u001b[49m\u001b[43mcontent_or_path\u001b[49m\u001b[43m=\u001b[49m\u001b[43mpath_or_buffer\u001b[49m\u001b[43m,\u001b[49m\u001b[43m \u001b[49m\u001b[43mstorage_options\u001b[49m\u001b[43m=\u001b[49m\u001b[43mstorage_options\u001b[49m\n\u001b[32m   1552\u001b[39m \u001b[43m    \u001b[49m\u001b[43m)\u001b[49m\n\u001b[32m   1553\u001b[39m     \u001b[38;5;28;01mif\u001b[39;00m ext \u001b[38;5;129;01mis\u001b[39;00m \u001b[38;5;28;01mNone\u001b[39;00m:\n\u001b[32m   1554\u001b[39m         \u001b[38;5;28;01mraise\u001b[39;00m \u001b[38;5;167;01mValueError\u001b[39;00m(\n\u001b[32m   1555\u001b[39m             \u001b[33m\"\u001b[39m\u001b[33mExcel file format cannot be determined, you must specify \u001b[39m\u001b[33m\"\u001b[39m\n\u001b[32m   1556\u001b[39m             \u001b[33m\"\u001b[39m\u001b[33man engine manually.\u001b[39m\u001b[33m\"\u001b[39m\n\u001b[32m   1557\u001b[39m         )\n",
      "\u001b[36mFile \u001b[39m\u001b[32m~/proj/genomic_env/lib64/python3.12/site-packages/pandas/io/excel/_base.py:1402\u001b[39m, in \u001b[36minspect_excel_format\u001b[39m\u001b[34m(content_or_path, storage_options)\u001b[39m\n\u001b[32m   1399\u001b[39m \u001b[38;5;28;01mif\u001b[39;00m \u001b[38;5;28misinstance\u001b[39m(content_or_path, \u001b[38;5;28mbytes\u001b[39m):\n\u001b[32m   1400\u001b[39m     content_or_path = BytesIO(content_or_path)\n\u001b[32m-> \u001b[39m\u001b[32m1402\u001b[39m \u001b[38;5;28;01mwith\u001b[39;00m \u001b[43mget_handle\u001b[49m\u001b[43m(\u001b[49m\n\u001b[32m   1403\u001b[39m \u001b[43m    \u001b[49m\u001b[43mcontent_or_path\u001b[49m\u001b[43m,\u001b[49m\u001b[43m \u001b[49m\u001b[33;43m\"\u001b[39;49m\u001b[33;43mrb\u001b[39;49m\u001b[33;43m\"\u001b[39;49m\u001b[43m,\u001b[49m\u001b[43m \u001b[49m\u001b[43mstorage_options\u001b[49m\u001b[43m=\u001b[49m\u001b[43mstorage_options\u001b[49m\u001b[43m,\u001b[49m\u001b[43m \u001b[49m\u001b[43mis_text\u001b[49m\u001b[43m=\u001b[49m\u001b[38;5;28;43;01mFalse\u001b[39;49;00m\n\u001b[32m   1404\u001b[39m \u001b[43m\u001b[49m\u001b[43m)\u001b[49m \u001b[38;5;28;01mas\u001b[39;00m handle:\n\u001b[32m   1405\u001b[39m     stream = handle.handle\n\u001b[32m   1406\u001b[39m     stream.seek(\u001b[32m0\u001b[39m)\n",
      "\u001b[36mFile \u001b[39m\u001b[32m~/proj/genomic_env/lib64/python3.12/site-packages/pandas/io/common.py:882\u001b[39m, in \u001b[36mget_handle\u001b[39m\u001b[34m(path_or_buf, mode, encoding, compression, memory_map, is_text, errors, storage_options)\u001b[39m\n\u001b[32m    873\u001b[39m         handle = \u001b[38;5;28mopen\u001b[39m(\n\u001b[32m    874\u001b[39m             handle,\n\u001b[32m    875\u001b[39m             ioargs.mode,\n\u001b[32m   (...)\u001b[39m\u001b[32m    878\u001b[39m             newline=\u001b[33m\"\u001b[39m\u001b[33m\"\u001b[39m,\n\u001b[32m    879\u001b[39m         )\n\u001b[32m    880\u001b[39m     \u001b[38;5;28;01melse\u001b[39;00m:\n\u001b[32m    881\u001b[39m         \u001b[38;5;66;03m# Binary mode\u001b[39;00m\n\u001b[32m--> \u001b[39m\u001b[32m882\u001b[39m         handle = \u001b[38;5;28;43mopen\u001b[39;49m\u001b[43m(\u001b[49m\u001b[43mhandle\u001b[49m\u001b[43m,\u001b[49m\u001b[43m \u001b[49m\u001b[43mioargs\u001b[49m\u001b[43m.\u001b[49m\u001b[43mmode\u001b[49m\u001b[43m)\u001b[49m\n\u001b[32m    883\u001b[39m     handles.append(handle)\n\u001b[32m    885\u001b[39m \u001b[38;5;66;03m# Convert BytesIO or file objects passed with an encoding\u001b[39;00m\n",
      "\u001b[31mFileNotFoundError\u001b[39m: [Errno 2] No such file or directory: 'data/2020-02-03 MS compiled for ML project.xlsx'"
     ]
    }
   ],
   "source": [
    "\n",
    "############# EDIT, FILL IN DATA HERE ############\n",
    "data_file = '2020-02-03 MS compiled for ML project.xlsx'  # needs xlsx at the end \n",
    "\n",
    "plasma_prop_sheet = 'Protein properties, plasma'\n",
    "plasma_mass_spec_sheet = '(GT)15-SWCNT, plasma'\n",
    "\n",
    "csf_prop_sheet = 'Protein properties, CSF'\n",
    "csf_mass_spec_sheet = '(GT)15-SWCNT, CSF'\n",
    "###################################################\n",
    "\n",
    "############ NO EDITS REQUIRED ##############\n",
    "\n",
    "data_filepath = \"data/\" + data_file\n",
    "\n",
    "# load data\n",
    "\n",
    "plasma_raw_data = pd.read_excel(data_filepath, sheet_name= plasma_prop_sheet, thousands=',')\n",
    "csf_raw_data = pd.read_excel(data_filepath, sheet_name= csf_prop_sheet, thousands=',')\n",
    "\n",
    "\n",
    "total_ids = plasma_raw_data.Entry.append(csf_raw_data.Entry)\n",
    "\n",
    "\n",
    "unique_ids = []\n",
    "\n",
    "for i in total_ids:\n",
    "    if i not in unique_ids:\n",
    "        unique_ids.append(i)\n"
   ]
  },
  {
   "cell_type": "markdown",
   "metadata": {},
   "source": [
    "## Use this for Importing New Data From UniProt"
   ]
  },
  {
   "cell_type": "code",
   "execution_count": 3,
   "metadata": {},
   "outputs": [
    {
     "ename": "ImportError",
     "evalue": "Missing optional dependency 'lxml'.  Use pip or conda to install lxml.",
     "output_type": "error",
     "traceback": [
      "\u001b[31m---------------------------------------------------------------------------\u001b[39m",
      "\u001b[31mModuleNotFoundError\u001b[39m                       Traceback (most recent call last)",
      "\u001b[36mFile \u001b[39m\u001b[32m~/proj/genomic_env/lib64/python3.12/site-packages/pandas/compat/_optional.py:135\u001b[39m, in \u001b[36mimport_optional_dependency\u001b[39m\u001b[34m(name, extra, errors, min_version)\u001b[39m\n\u001b[32m    134\u001b[39m \u001b[38;5;28;01mtry\u001b[39;00m:\n\u001b[32m--> \u001b[39m\u001b[32m135\u001b[39m     module = \u001b[43mimportlib\u001b[49m\u001b[43m.\u001b[49m\u001b[43mimport_module\u001b[49m\u001b[43m(\u001b[49m\u001b[43mname\u001b[49m\u001b[43m)\u001b[49m\n\u001b[32m    136\u001b[39m \u001b[38;5;28;01mexcept\u001b[39;00m \u001b[38;5;167;01mImportError\u001b[39;00m:\n",
      "\u001b[36mFile \u001b[39m\u001b[32m/usr/lib64/python3.12/importlib/__init__.py:90\u001b[39m, in \u001b[36mimport_module\u001b[39m\u001b[34m(name, package)\u001b[39m\n\u001b[32m     89\u001b[39m         level += \u001b[32m1\u001b[39m\n\u001b[32m---> \u001b[39m\u001b[32m90\u001b[39m \u001b[38;5;28;01mreturn\u001b[39;00m \u001b[43m_bootstrap\u001b[49m\u001b[43m.\u001b[49m\u001b[43m_gcd_import\u001b[49m\u001b[43m(\u001b[49m\u001b[43mname\u001b[49m\u001b[43m[\u001b[49m\u001b[43mlevel\u001b[49m\u001b[43m:\u001b[49m\u001b[43m]\u001b[49m\u001b[43m,\u001b[49m\u001b[43m \u001b[49m\u001b[43mpackage\u001b[49m\u001b[43m,\u001b[49m\u001b[43m \u001b[49m\u001b[43mlevel\u001b[49m\u001b[43m)\u001b[49m\n",
      "\u001b[36mFile \u001b[39m\u001b[32m<frozen importlib._bootstrap>:1387\u001b[39m, in \u001b[36m_gcd_import\u001b[39m\u001b[34m(name, package, level)\u001b[39m\n",
      "\u001b[36mFile \u001b[39m\u001b[32m<frozen importlib._bootstrap>:1360\u001b[39m, in \u001b[36m_find_and_load\u001b[39m\u001b[34m(name, import_)\u001b[39m\n",
      "\u001b[36mFile \u001b[39m\u001b[32m<frozen importlib._bootstrap>:1310\u001b[39m, in \u001b[36m_find_and_load_unlocked\u001b[39m\u001b[34m(name, import_)\u001b[39m\n",
      "\u001b[36mFile \u001b[39m\u001b[32m<frozen importlib._bootstrap>:488\u001b[39m, in \u001b[36m_call_with_frames_removed\u001b[39m\u001b[34m(f, *args, **kwds)\u001b[39m\n",
      "\u001b[36mFile \u001b[39m\u001b[32m<frozen importlib._bootstrap>:1387\u001b[39m, in \u001b[36m_gcd_import\u001b[39m\u001b[34m(name, package, level)\u001b[39m\n",
      "\u001b[36mFile \u001b[39m\u001b[32m<frozen importlib._bootstrap>:1360\u001b[39m, in \u001b[36m_find_and_load\u001b[39m\u001b[34m(name, import_)\u001b[39m\n",
      "\u001b[36mFile \u001b[39m\u001b[32m<frozen importlib._bootstrap>:1324\u001b[39m, in \u001b[36m_find_and_load_unlocked\u001b[39m\u001b[34m(name, import_)\u001b[39m\n",
      "\u001b[31mModuleNotFoundError\u001b[39m: No module named 'lxml'",
      "\nDuring handling of the above exception, another exception occurred:\n",
      "\u001b[31mImportError\u001b[39m                               Traceback (most recent call last)",
      "\u001b[36mCell\u001b[39m\u001b[36m \u001b[39m\u001b[32mIn[3]\u001b[39m\u001b[32m, line 7\u001b[39m\n\u001b[32m      4\u001b[39m clatherin_pit = \u001b[33m'\u001b[39m\u001b[33mhttps://www.uniprot.org/uniprot/?query=locations:(location:\u001b[39m\u001b[33m%\u001b[39m\u001b[33m22Clathrin-coated\u001b[39m\u001b[33m%\u001b[39m\u001b[33m20pit\u001b[39m\u001b[38;5;132;01m%20%\u001b[39;00m\u001b[33m5BSL-0069\u001b[39m\u001b[33m%\u001b[39m\u001b[33m5D\u001b[39m\u001b[33m%\u001b[39m\u001b[33m22)&fil=organism\u001b[39m\u001b[33m%\u001b[39m\u001b[33m3A\u001b[39m\u001b[33m%\u001b[39m\u001b[33m22Homo+sapiens+\u001b[39m\u001b[33m%\u001b[39m\u001b[33m28Human\u001b[39m\u001b[33m%\u001b[39m\u001b[33m29+\u001b[39m\u001b[33m%\u001b[39m\u001b[33m5B9606\u001b[39m\u001b[33m%\u001b[39m\u001b[33m5D\u001b[39m\u001b[33m%\u001b[39m\u001b[33m22+AND+reviewed\u001b[39m\u001b[33m%\u001b[39m\u001b[33m3Ayes\u001b[39m\u001b[33m'\u001b[39m\n\u001b[32m      5\u001b[39m nucleus = \u001b[33m'\u001b[39m\u001b[33mhttps://www.uniprot.org/uniprot/?query=locations\u001b[39m\u001b[33m%\u001b[39m\u001b[33m3A\u001b[39m\u001b[38;5;132;01m%28lo\u001b[39;00m\u001b[33mcation\u001b[39m\u001b[33m%\u001b[39m\u001b[33m3A\u001b[39m\u001b[33m%\u001b[39m\u001b[33m22Nucleus+\u001b[39m\u001b[33m%\u001b[39m\u001b[33m5BSL-0191\u001b[39m\u001b[33m%\u001b[39m\u001b[33m5D\u001b[39m\u001b[38;5;132;01m%22%\u001b[39;00m\u001b[33m29+reviewed\u001b[39m\u001b[33m%\u001b[39m\u001b[33m3Ayes+organism\u001b[39m\u001b[33m%\u001b[39m\u001b[33m3A\u001b[39m\u001b[33m%\u001b[39m\u001b[33m22Homo+sapiens+\u001b[39m\u001b[33m%\u001b[39m\u001b[33m28Human\u001b[39m\u001b[33m%\u001b[39m\u001b[33m29+\u001b[39m\u001b[33m%\u001b[39m\u001b[33m5B9606\u001b[39m\u001b[33m%\u001b[39m\u001b[33m5D\u001b[39m\u001b[33m%\u001b[39m\u001b[33m22&sort=score&limit=1000\u001b[39m\u001b[33m'\u001b[39m\n\u001b[32m----> \u001b[39m\u001b[32m7\u001b[39m verification_entries = \u001b[43mpd\u001b[49m\u001b[43m.\u001b[49m\u001b[43mread_html\u001b[49m\u001b[43m(\u001b[49m\u001b[43mcytoplasm_link\u001b[49m\u001b[43m,\u001b[49m\u001b[43m \u001b[49m\u001b[43mheader\u001b[49m\u001b[43m=\u001b[49m\u001b[32;43m0\u001b[39;49m\u001b[43m)\u001b[49m[\u001b[32m0\u001b[39m][\u001b[33m\"\u001b[39m\u001b[33mEntry\u001b[39m\u001b[33m\"\u001b[39m]\n\u001b[32m      9\u001b[39m unique_ids = []\n\u001b[32m     11\u001b[39m \u001b[38;5;28;01mfor\u001b[39;00m i \u001b[38;5;129;01min\u001b[39;00m verification_entries.to_list():\n",
      "\u001b[36mFile \u001b[39m\u001b[32m~/proj/genomic_env/lib64/python3.12/site-packages/pandas/io/html.py:1240\u001b[39m, in \u001b[36mread_html\u001b[39m\u001b[34m(io, match, flavor, header, index_col, skiprows, attrs, parse_dates, thousands, encoding, decimal, converters, na_values, keep_default_na, displayed_only, extract_links, dtype_backend, storage_options)\u001b[39m\n\u001b[32m   1224\u001b[39m \u001b[38;5;28;01mif\u001b[39;00m \u001b[38;5;28misinstance\u001b[39m(io, \u001b[38;5;28mstr\u001b[39m) \u001b[38;5;129;01mand\u001b[39;00m \u001b[38;5;129;01mnot\u001b[39;00m \u001b[38;5;28many\u001b[39m(\n\u001b[32m   1225\u001b[39m     [\n\u001b[32m   1226\u001b[39m         is_file_like(io),\n\u001b[32m   (...)\u001b[39m\u001b[32m   1230\u001b[39m     ]\n\u001b[32m   1231\u001b[39m ):\n\u001b[32m   1232\u001b[39m     warnings.warn(\n\u001b[32m   1233\u001b[39m         \u001b[33m\"\u001b[39m\u001b[33mPassing literal html to \u001b[39m\u001b[33m'\u001b[39m\u001b[33mread_html\u001b[39m\u001b[33m'\u001b[39m\u001b[33m is deprecated and \u001b[39m\u001b[33m\"\u001b[39m\n\u001b[32m   1234\u001b[39m         \u001b[33m\"\u001b[39m\u001b[33mwill be removed in a future version. To read from a \u001b[39m\u001b[33m\"\u001b[39m\n\u001b[32m   (...)\u001b[39m\u001b[32m   1237\u001b[39m         stacklevel=find_stack_level(),\n\u001b[32m   1238\u001b[39m     )\n\u001b[32m-> \u001b[39m\u001b[32m1240\u001b[39m \u001b[38;5;28;01mreturn\u001b[39;00m \u001b[43m_parse\u001b[49m\u001b[43m(\u001b[49m\n\u001b[32m   1241\u001b[39m \u001b[43m    \u001b[49m\u001b[43mflavor\u001b[49m\u001b[43m=\u001b[49m\u001b[43mflavor\u001b[49m\u001b[43m,\u001b[49m\n\u001b[32m   1242\u001b[39m \u001b[43m    \u001b[49m\u001b[43mio\u001b[49m\u001b[43m=\u001b[49m\u001b[43mio\u001b[49m\u001b[43m,\u001b[49m\n\u001b[32m   1243\u001b[39m \u001b[43m    \u001b[49m\u001b[43mmatch\u001b[49m\u001b[43m=\u001b[49m\u001b[43mmatch\u001b[49m\u001b[43m,\u001b[49m\n\u001b[32m   1244\u001b[39m \u001b[43m    \u001b[49m\u001b[43mheader\u001b[49m\u001b[43m=\u001b[49m\u001b[43mheader\u001b[49m\u001b[43m,\u001b[49m\n\u001b[32m   1245\u001b[39m \u001b[43m    \u001b[49m\u001b[43mindex_col\u001b[49m\u001b[43m=\u001b[49m\u001b[43mindex_col\u001b[49m\u001b[43m,\u001b[49m\n\u001b[32m   1246\u001b[39m \u001b[43m    \u001b[49m\u001b[43mskiprows\u001b[49m\u001b[43m=\u001b[49m\u001b[43mskiprows\u001b[49m\u001b[43m,\u001b[49m\n\u001b[32m   1247\u001b[39m \u001b[43m    \u001b[49m\u001b[43mparse_dates\u001b[49m\u001b[43m=\u001b[49m\u001b[43mparse_dates\u001b[49m\u001b[43m,\u001b[49m\n\u001b[32m   1248\u001b[39m \u001b[43m    \u001b[49m\u001b[43mthousands\u001b[49m\u001b[43m=\u001b[49m\u001b[43mthousands\u001b[49m\u001b[43m,\u001b[49m\n\u001b[32m   1249\u001b[39m \u001b[43m    \u001b[49m\u001b[43mattrs\u001b[49m\u001b[43m=\u001b[49m\u001b[43mattrs\u001b[49m\u001b[43m,\u001b[49m\n\u001b[32m   1250\u001b[39m \u001b[43m    \u001b[49m\u001b[43mencoding\u001b[49m\u001b[43m=\u001b[49m\u001b[43mencoding\u001b[49m\u001b[43m,\u001b[49m\n\u001b[32m   1251\u001b[39m \u001b[43m    \u001b[49m\u001b[43mdecimal\u001b[49m\u001b[43m=\u001b[49m\u001b[43mdecimal\u001b[49m\u001b[43m,\u001b[49m\n\u001b[32m   1252\u001b[39m \u001b[43m    \u001b[49m\u001b[43mconverters\u001b[49m\u001b[43m=\u001b[49m\u001b[43mconverters\u001b[49m\u001b[43m,\u001b[49m\n\u001b[32m   1253\u001b[39m \u001b[43m    \u001b[49m\u001b[43mna_values\u001b[49m\u001b[43m=\u001b[49m\u001b[43mna_values\u001b[49m\u001b[43m,\u001b[49m\n\u001b[32m   1254\u001b[39m \u001b[43m    \u001b[49m\u001b[43mkeep_default_na\u001b[49m\u001b[43m=\u001b[49m\u001b[43mkeep_default_na\u001b[49m\u001b[43m,\u001b[49m\n\u001b[32m   1255\u001b[39m \u001b[43m    \u001b[49m\u001b[43mdisplayed_only\u001b[49m\u001b[43m=\u001b[49m\u001b[43mdisplayed_only\u001b[49m\u001b[43m,\u001b[49m\n\u001b[32m   1256\u001b[39m \u001b[43m    \u001b[49m\u001b[43mextract_links\u001b[49m\u001b[43m=\u001b[49m\u001b[43mextract_links\u001b[49m\u001b[43m,\u001b[49m\n\u001b[32m   1257\u001b[39m \u001b[43m    \u001b[49m\u001b[43mdtype_backend\u001b[49m\u001b[43m=\u001b[49m\u001b[43mdtype_backend\u001b[49m\u001b[43m,\u001b[49m\n\u001b[32m   1258\u001b[39m \u001b[43m    \u001b[49m\u001b[43mstorage_options\u001b[49m\u001b[43m=\u001b[49m\u001b[43mstorage_options\u001b[49m\u001b[43m,\u001b[49m\n\u001b[32m   1259\u001b[39m \u001b[43m\u001b[49m\u001b[43m)\u001b[49m\n",
      "\u001b[36mFile \u001b[39m\u001b[32m~/proj/genomic_env/lib64/python3.12/site-packages/pandas/io/html.py:971\u001b[39m, in \u001b[36m_parse\u001b[39m\u001b[34m(flavor, io, match, attrs, encoding, displayed_only, extract_links, storage_options, **kwargs)\u001b[39m\n\u001b[32m    969\u001b[39m retained = \u001b[38;5;28;01mNone\u001b[39;00m\n\u001b[32m    970\u001b[39m \u001b[38;5;28;01mfor\u001b[39;00m flav \u001b[38;5;129;01min\u001b[39;00m flavor:\n\u001b[32m--> \u001b[39m\u001b[32m971\u001b[39m     parser = \u001b[43m_parser_dispatch\u001b[49m\u001b[43m(\u001b[49m\u001b[43mflav\u001b[49m\u001b[43m)\u001b[49m\n\u001b[32m    972\u001b[39m     p = parser(\n\u001b[32m    973\u001b[39m         io,\n\u001b[32m    974\u001b[39m         compiled_match,\n\u001b[32m   (...)\u001b[39m\u001b[32m    979\u001b[39m         storage_options,\n\u001b[32m    980\u001b[39m     )\n\u001b[32m    982\u001b[39m     \u001b[38;5;28;01mtry\u001b[39;00m:\n",
      "\u001b[36mFile \u001b[39m\u001b[32m~/proj/genomic_env/lib64/python3.12/site-packages/pandas/io/html.py:918\u001b[39m, in \u001b[36m_parser_dispatch\u001b[39m\u001b[34m(flavor)\u001b[39m\n\u001b[32m    916\u001b[39m     import_optional_dependency(\u001b[33m\"\u001b[39m\u001b[33mbs4\u001b[39m\u001b[33m\"\u001b[39m)\n\u001b[32m    917\u001b[39m \u001b[38;5;28;01melse\u001b[39;00m:\n\u001b[32m--> \u001b[39m\u001b[32m918\u001b[39m     \u001b[43mimport_optional_dependency\u001b[49m\u001b[43m(\u001b[49m\u001b[33;43m\"\u001b[39;49m\u001b[33;43mlxml.etree\u001b[39;49m\u001b[33;43m\"\u001b[39;49m\u001b[43m)\u001b[49m\n\u001b[32m    919\u001b[39m \u001b[38;5;28;01mreturn\u001b[39;00m _valid_parsers[flavor]\n",
      "\u001b[36mFile \u001b[39m\u001b[32m~/proj/genomic_env/lib64/python3.12/site-packages/pandas/compat/_optional.py:138\u001b[39m, in \u001b[36mimport_optional_dependency\u001b[39m\u001b[34m(name, extra, errors, min_version)\u001b[39m\n\u001b[32m    136\u001b[39m \u001b[38;5;28;01mexcept\u001b[39;00m \u001b[38;5;167;01mImportError\u001b[39;00m:\n\u001b[32m    137\u001b[39m     \u001b[38;5;28;01mif\u001b[39;00m errors == \u001b[33m\"\u001b[39m\u001b[33mraise\u001b[39m\u001b[33m\"\u001b[39m:\n\u001b[32m--> \u001b[39m\u001b[32m138\u001b[39m         \u001b[38;5;28;01mraise\u001b[39;00m \u001b[38;5;167;01mImportError\u001b[39;00m(msg)\n\u001b[32m    139\u001b[39m     \u001b[38;5;28;01mreturn\u001b[39;00m \u001b[38;5;28;01mNone\u001b[39;00m\n\u001b[32m    141\u001b[39m \u001b[38;5;66;03m# Handle submodules: if we have submodule, grab parent module from sys.modules\u001b[39;00m\n",
      "\u001b[31mImportError\u001b[39m: Missing optional dependency 'lxml'.  Use pip or conda to install lxml."
     ]
    }
   ],
   "source": [
    "covid_link = 'https://covid-19.uniprot.org/uniprotkb?query=id&format=html'\n",
    "cytoplasm_link = 'https://www.uniprot.org/uniprot/?query=locations:(location:%22Cytoplasm%20%5BSL-0086%5D%22)&fil=organism%3A%22Homo+sapiens+%28Human%29+%5B9606%5D%22+AND+reviewed%3Ayes&limit=1000'\n",
    "dendritic_spine ='https://www.uniprot.org/uniprot/?query=locations:(location:%22Dendritic%20spine%20%5BSL-0284%5D%22)&fil=organism%3A%22Homo+sapiens+%28Human%29+%5B9606%5D%22+AND+reviewed%3Ayes&limit=150'\n",
    "clatherin_pit = 'https://www.uniprot.org/uniprot/?query=locations:(location:%22Clathrin-coated%20pit%20%5BSL-0069%5D%22)&fil=organism%3A%22Homo+sapiens+%28Human%29+%5B9606%5D%22+AND+reviewed%3Ayes'\n",
    "nucleus = 'https://www.uniprot.org/uniprot/?query=locations%3A%28location%3A%22Nucleus+%5BSL-0191%5D%22%29+reviewed%3Ayes+organism%3A%22Homo+sapiens+%28Human%29+%5B9606%5D%22&sort=score&limit=1000'\n",
    "\n",
    "verification_entries = pd.read_html(cytoplasm_link, header=0)[0][\"Entry\"]\n",
    "\n",
    "unique_ids = []\n",
    "\n",
    "for i in verification_entries.to_list():\n",
    "    if i not in unique_ids:\n",
    "        unique_ids.append(i)"
   ]
  },
  {
   "cell_type": "markdown",
   "metadata": {},
   "source": [
    "## Generate the fasta file"
   ]
  },
  {
   "cell_type": "code",
   "execution_count": 3,
   "metadata": {},
   "outputs": [],
   "source": [
    "chosen_list = [\"Q01995\", 'Q13148', 'P16070', 'P00698', 'P00338', 'P07998', 'Q8MU52', 'O00560']\n"
   ]
  },
  {
   "cell_type": "code",
   "execution_count": 17,
   "metadata": {},
   "outputs": [
    {
     "name": "stdout",
     "output_type": "stream",
     "text": [
      "P05164\n",
      "https://www.uniprot.org/uniprot/P05164.fasta\n",
      "P01834\n",
      "https://www.uniprot.org/uniprot/P01834.fasta\n",
      "P04080\n",
      "https://www.uniprot.org/uniprot/P04080.fasta\n",
      "P01833\n",
      "https://www.uniprot.org/uniprot/P01833.fasta\n",
      "P01857\n",
      "https://www.uniprot.org/uniprot/P01857.fasta\n",
      "P25311\n",
      "https://www.uniprot.org/uniprot/P25311.fasta\n",
      "P31025\n",
      "https://www.uniprot.org/uniprot/P31025.fasta\n",
      "Q9C0C2\n",
      "https://www.uniprot.org/uniprot/Q9C0C2.fasta\n",
      "Q9UGM3\n",
      "https://www.uniprot.org/uniprot/Q9UGM3.fasta\n",
      "P13647\n",
      "https://www.uniprot.org/uniprot/P13647.fasta\n",
      "Q8TAX7\n",
      "https://www.uniprot.org/uniprot/Q8TAX7.fasta\n",
      "P54652\n",
      "https://www.uniprot.org/uniprot/P54652.fasta\n",
      "P01591\n",
      "https://www.uniprot.org/uniprot/P01591.fasta\n",
      "Q9HC84\n",
      "https://www.uniprot.org/uniprot/Q9HC84.fasta\n",
      "P05787\n",
      "https://www.uniprot.org/uniprot/P05787.fasta\n",
      "P04083\n",
      "https://www.uniprot.org/uniprot/P04083.fasta\n",
      "P04075\n",
      "https://www.uniprot.org/uniprot/P04075.fasta\n",
      "P07108\n",
      "https://www.uniprot.org/uniprot/P07108.fasta\n",
      "P04792\n",
      "https://www.uniprot.org/uniprot/P04792.fasta\n",
      "Q02487\n",
      "https://www.uniprot.org/uniprot/Q02487.fasta\n",
      "P02647\n",
      "https://www.uniprot.org/uniprot/P02647.fasta\n",
      "Q01469\n",
      "https://www.uniprot.org/uniprot/Q01469.fasta\n",
      "P01871\n",
      "https://www.uniprot.org/uniprot/P01871.fasta\n",
      "P04259\n",
      "https://www.uniprot.org/uniprot/P04259.fasta\n",
      "P08779\n",
      "https://www.uniprot.org/uniprot/P08779.fasta\n",
      "P02538\n",
      "https://www.uniprot.org/uniprot/P02538.fasta\n",
      "P22079\n",
      "https://www.uniprot.org/uniprot/P22079.fasta\n",
      "Q8N1N4\n",
      "https://www.uniprot.org/uniprot/Q8N1N4.fasta\n",
      "Q9UBC9\n",
      "https://www.uniprot.org/uniprot/Q9UBC9.fasta\n",
      "Q9NQ38\n",
      "https://www.uniprot.org/uniprot/Q9NQ38.fasta\n",
      "A8K2U0\n",
      "https://www.uniprot.org/uniprot/A8K2U0.fasta\n",
      "P07737\n",
      "https://www.uniprot.org/uniprot/P07737.fasta\n",
      "P27482\n",
      "https://www.uniprot.org/uniprot/P27482.fasta\n",
      "P60174\n",
      "https://www.uniprot.org/uniprot/P60174.fasta\n",
      "P04433\n",
      "https://www.uniprot.org/uniprot/P04433.fasta\n",
      "P03973\n",
      "https://www.uniprot.org/uniprot/P03973.fasta\n",
      "P52209\n",
      "https://www.uniprot.org/uniprot/P52209.fasta\n",
      "P01040\n",
      "https://www.uniprot.org/uniprot/P01040.fasta\n",
      "P47929\n",
      "https://www.uniprot.org/uniprot/P47929.fasta\n",
      "P13645\n",
      "https://www.uniprot.org/uniprot/P13645.fasta\n",
      "P02774\n",
      "https://www.uniprot.org/uniprot/P02774.fasta\n",
      "P48668\n",
      "https://www.uniprot.org/uniprot/P48668.fasta\n",
      "P14618\n",
      "https://www.uniprot.org/uniprot/P14618.fasta\n",
      "P00558\n",
      "https://www.uniprot.org/uniprot/P00558.fasta\n",
      "Q01518\n",
      "https://www.uniprot.org/uniprot/Q01518.fasta\n",
      "P78386\n",
      "https://www.uniprot.org/uniprot/P78386.fasta\n",
      "P08729\n",
      "https://www.uniprot.org/uniprot/P08729.fasta\n",
      "Q5T681\n",
      "https://www.uniprot.org/uniprot/Q5T681.fasta\n",
      "P01860\n",
      "https://www.uniprot.org/uniprot/P01860.fasta\n",
      "P19012\n",
      "https://www.uniprot.org/uniprot/P19012.fasta\n",
      "Q08380\n",
      "https://www.uniprot.org/uniprot/Q08380.fasta\n",
      "P13646\n",
      "https://www.uniprot.org/uniprot/P13646.fasta\n",
      "Q2M2I5\n",
      "https://www.uniprot.org/uniprot/Q2M2I5.fasta\n",
      "P19013\n",
      "https://www.uniprot.org/uniprot/P19013.fasta\n",
      "Q6KB66\n",
      "https://www.uniprot.org/uniprot/Q6KB66.fasta\n",
      "P31151\n",
      "https://www.uniprot.org/uniprot/P31151.fasta\n",
      "Q86SG5\n",
      "https://www.uniprot.org/uniprot/Q86SG5.fasta\n",
      "P06733\n",
      "https://www.uniprot.org/uniprot/P06733.fasta\n",
      "P09104\n",
      "https://www.uniprot.org/uniprot/P09104.fasta\n",
      "P07355\n",
      "https://www.uniprot.org/uniprot/P07355.fasta\n",
      "A6NMY6\n",
      "https://www.uniprot.org/uniprot/A6NMY6.fasta\n",
      "P0CG38\n",
      "https://www.uniprot.org/uniprot/P0CG38.fasta\n",
      "P0CG39\n",
      "https://www.uniprot.org/uniprot/P0CG39.fasta\n",
      "P22528\n",
      "https://www.uniprot.org/uniprot/P22528.fasta\n",
      "P35321\n",
      "https://www.uniprot.org/uniprot/P35321.fasta\n"
     ]
    }
   ],
   "source": [
    "unique_ids_list = chosen_list ### identify it your list here\n",
    "fasta_filename = \"chosen_fasta\"\n",
    "####### Dont Touch Below Here #####\n",
    "total_fasta = ''\n",
    "\n",
    "error_list = []\n",
    "for protein in unique_ids_list:\n",
    "    print(protein)\n",
    "    try: current_fasta = protein_data_scraping_fasta(protein)\n",
    "\n",
    "    except Exception:\n",
    "        error_list.append(protein)\n",
    "\n",
    "    \n",
    "    if first_loop:\n",
    "        total_fasta = current_fasta\n",
    "        first_loop = False\n",
    "        \n",
    "    else:\n",
    "        total_fasta += '\\n'+current_fasta      \n",
    "\n",
    "    f = open(\"fasta_data/\"+fasta_filename+'.txt', \"w\")\n",
    "    f.write(total_fasta)\n",
    "    f.close() \n",
    "\n",
    "\n",
    "f = open(\"fasta_data/\"+fasta_filename+'.txt', \"w\")\n",
    "f.write(total_fasta)\n",
    "f.close()"
   ]
  },
  {
   "cell_type": "code",
   "execution_count": 8,
   "metadata": {},
   "outputs": [
    {
     "name": "stdout",
     "output_type": "stream",
     "text": [
      "['P04745']\n"
     ]
    }
   ],
   "source": [
    "print(error_list)"
   ]
  },
  {
   "cell_type": "markdown",
   "metadata": {},
   "source": [
    "# Go to NetSurfP website and Submit Data, after completion paste data into an excel file for import into the program"
   ]
  },
  {
   "cell_type": "markdown",
   "metadata": {},
   "source": [
    "Use excel to break up all of the data into columns this will require titiling each column based off of the key netsurp provides "
   ]
  },
  {
   "cell_type": "markdown",
   "metadata": {},
   "source": [
    "# Processing NetSurfP data for use in future notebooks"
   ]
  },
  {
   "cell_type": "code",
   "execution_count": 6,
   "metadata": {},
   "outputs": [
    {
     "name": "stderr",
     "output_type": "stream",
     "text": [
      "c:\\Users\\Venus\\Desktop\\protein-corona-ml-05192021\\uniprot_netsurfp_scraping.py:206: SettingWithCopyWarning: \n",
      "A value is trying to be set on a copy of a slice from a DataFrame.\n",
      "Try using .loc[row_indexer,col_indexer] = value instead\n",
      "\n",
      "See the caveats in the documentation: https://pandas.pydata.org/pandas-docs/stable/user_guide/indexing.html#returning-a-view-versus-a-copy\n",
      "  filtered['class assignment'] = np.where(filtered.rsa > 0.25, 'E', 'B')\n"
     ]
    },
    {
     "name": "stdout",
     "output_type": "stream",
     "text": [
      "(136, 55)\n"
     ]
    }
   ],
   "source": [
    "complete_netsurfp = pd.read_excel(\"data/\"+'netsurfp2_lcms_proteins_data.xlsx')\n",
    "\n",
    "processed_data = netsurfp_2_data_processing(unique_ids, complete_netsurfp) ### processes netsurfp data into feature columns\n",
    "\n",
    "print(processed_data.shape)\n",
    "processed_data.to_excel(\"data/\"+'netsurfp_2_lcms_proteins_processed_updated.xlsx')\n"
   ]
  }
 ],
 "metadata": {
  "kernelspec": {
   "display_name": "genomic_env",
   "language": "python",
   "name": "python3"
  },
  "language_info": {
   "codemirror_mode": {
    "name": "ipython",
    "version": 3
   },
   "file_extension": ".py",
   "mimetype": "text/x-python",
   "name": "python",
   "nbconvert_exporter": "python",
   "pygments_lexer": "ipython3",
   "version": "3.12.9"
  }
 },
 "nbformat": 4,
 "nbformat_minor": 4
}
